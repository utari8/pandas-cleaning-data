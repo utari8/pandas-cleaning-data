{
 "cells": [
  {
   "cell_type": "markdown",
   "metadata": {},
   "source": [
    "CLEANING DATA\n",
    "Data yang buruk adalah:\n",
    "Sel Kosong : berpotensi memberikan hasil yang salahketika menganalisis data\n",
    "Data dengan format yang salah\n",
    "Data yang salah\n",
    "Duplikat\n",
    "\n",
    "::NaN adalah Not a Number"
   ]
  },
  {
   "cell_type": "markdown",
   "metadata": {},
   "source": [
    "Remove Rows\n",
    "Salah satu cara untuk menangani sel kosong adalah dengan menghapus baris yang berisi sel kosong.\n",
    "\n",
    "Ini biasanya baik-baik saja, karena kumpulan data bisa sangat besar, dan menghapus beberapa baris tidak akan berdampak besar pada hasilnya."
   ]
  },
  {
   "cell_type": "code",
   "execution_count": null,
   "metadata": {},
   "outputs": [],
   "source": [
    "#USING dropna()\n",
    "import pandas as pd\n",
    "\n",
    "df = pd.read_csv('dirtydata.csv')\n",
    "print(df)"
   ]
  },
  {
   "cell_type": "markdown",
   "metadata": {},
   "source": [
    " Secara default, metode dropna() mengembalikan dataframe baru, dan tidak akan mengubah aslinya\n",
    " Jika ingin mengubah dataframe asli, gunakan argumen inplace = True \n",
    " Catatan: Sekarang, dropna(inplace = True) TIDAK akan mengembalikan DataFrame baru, tetapi akan \n",
    " menghapus semua baris yang berisi nilai NULL dari DataFrame asli."
   ]
  },
  {
   "cell_type": "code",
   "execution_count": null,
   "metadata": {},
   "outputs": [],
   "source": [
    "import pandas as pd\n",
    "\n",
    "df = pd.read_csv('dirtydata.csv')\n",
    "\n",
    "new_df = df.dropna()\n",
    "#df.dropna(inplace = True)\n",
    "\n",
    "print(new_df.to_string())"
   ]
  },
  {
   "cell_type": "markdown",
   "metadata": {},
   "source": [
    "Cara lain untuk menangani sel kosong adalah dengan memasukkan nilai baru.\n",
    "\n",
    "Dengan cara ini Anda tidak perlu menghapus seluruh baris hanya karena beberapa sel kosong.\n",
    "\n",
    "Metode fillna() memungkinkan kita untuk mengganti sel kosong dengan nilai"
   ]
  },
  {
   "cell_type": "code",
   "execution_count": null,
   "metadata": {},
   "outputs": [],
   "source": [
    "import pandas as pd\n",
    "df = pd.read_csv('dirtydata.csv')\n",
    "print(df)"
   ]
  },
  {
   "cell_type": "code",
   "execution_count": null,
   "metadata": {},
   "outputs": [],
   "source": [
    "# USING fillna()\n",
    "import pandas as pd\n",
    "df = pd.read_csv('dirtydata.csv')\n",
    "df.fillna(130, inplace = True)\n",
    "print(df.to_string())"
   ]
  },
  {
   "cell_type": "markdown",
   "metadata": {},
   "source": [
    "Contoh di atas menggantikan semua sel kosong di seluruh DataFrame.\n",
    "\n",
    "Untuk hanya mengganti nilai kosong untuk satu kolom, tentukan nama kolom untuk DataFrame:"
   ]
  },
  {
   "cell_type": "code",
   "execution_count": null,
   "metadata": {},
   "outputs": [],
   "source": [
    "import pandas as pd\n",
    "df = pd.read_csv('dirtydata.csv')\n",
    "df[\"Calories\"].fillna(130, inplace = True)\n",
    "print(df.to_string)"
   ]
  },
  {
   "cell_type": "markdown",
   "metadata": {},
   "source": [
    "Cara umum untuk mengganti sel kosong adalah dengan menghitung nilai mean, median, atau mode kolom.\n",
    "\n",
    "Pandas menggunakan metode mean() median() dan mode() untuk menghitung nilai masing-masing untuk kolom yang ditentukan:"
   ]
  },
  {
   "cell_type": "code",
   "execution_count": null,
   "metadata": {},
   "outputs": [],
   "source": [
    "import pandas as pd\n",
    "\n",
    "df = pd.read_csv('dirtydata.csv')\n",
    "x = df[\"Calories\"].mean()\n",
    "df[\"Calories\"].fillna(x, inplace = True)\n",
    "print(df.to_string())\n",
    "\n",
    "# Mean = nilai rata-rata (jumlah semua nilai dibagi jumlah nilai)."
   ]
  },
  {
   "cell_type": "code",
   "execution_count": null,
   "metadata": {},
   "outputs": [],
   "source": [
    "import pandas as pd\n",
    "\n",
    "df = pd.read_csv('dirtydata.csv')\n",
    "x = df[\"Calories\"].median()\n",
    "df[\"Calories\"].fillna(x, inplace = True)\n",
    "print(df.to_string())\n",
    "\n",
    "# Median = nilai di tengah, setelah Anda mengurutkan semua nilai secara menaik"
   ]
  },
  {
   "cell_type": "code",
   "execution_count": null,
   "metadata": {},
   "outputs": [],
   "source": [
    "import pandas as pd\n",
    "\n",
    "df = pd.read_csv('dirtydata.csv')\n",
    "x = df[\"Calories\"].mode()[0]\n",
    "df[\"Calories\"].fillna(x, inplace = True)\n",
    "print(df)\n",
    "\n",
    "# Modus = nilai yang paling sering muncul."
   ]
  },
  {
   "cell_type": "markdown",
   "metadata": {},
   "source": [
    "CLEANING WRONG FORMAT\n",
    "\n",
    "Sel dengan data dengan format yang salah dapat mempersulit, atau bahkan tidak mungkin, untuk menganalisis data.\n",
    "\n",
    "Untuk memperbaikinya, Anda memiliki dua opsi: hapus baris, atau ubah semua sel di kolom ke dalam format yang sama."
   ]
  },
  {
   "cell_type": "code",
   "execution_count": null,
   "metadata": {},
   "outputs": [],
   "source": [
    "\n",
    "import pandas as pd\n",
    "\n",
    "df = pd.read_csv('dirtydata.csv')\n",
    "print(df.loc[26])"
   ]
  },
  {
   "cell_type": "code",
   "execution_count": null,
   "metadata": {},
   "outputs": [],
   "source": [
    "# CONVERT INTO CORRECT FORMAT\n",
    "import pandas as pd \n",
    "\n",
    "df = pd.read_csv('dirtydata.csv')\n",
    "df['Date'] = pd.to_datetime(df['Date'])\n",
    "# print(df.loc[26])\n",
    "# print(df.tail(10))\n",
    "print(df.to_string())\n",
    "\n",
    "# :: NaT(Not a Time) mewakili nilai yang hilang (datetime)\n",
    "# :: NaN mewakili nilai yang hilang (array)"
   ]
  },
  {
   "cell_type": "markdown",
   "metadata": {},
   "source": [
    "Seperti yang Anda lihat dari hasilnya, tanggal di baris 26 sudah diperbaiki, tetapi tanggal kosong di baris 22 mendapat nilai NaT, dengan kata lain nilai kosong. Salah satu cara untuk menangani nilai kosong adalah dengan menghapus seluruh baris."
   ]
  },
  {
   "cell_type": "code",
   "execution_count": null,
   "metadata": {},
   "outputs": [],
   "source": [
    "import pandas as pd\n",
    "df = pd.read_csv('dirtydata.csv')\n",
    "df['Date'] = pd.to_datetime(df['Date'])\n",
    "df.dropna(subset=['Date'], inplace = True)\n",
    "print(df.tail(10))\n",
    "# print(df.to_string())"
   ]
  },
  {
   "cell_type": "markdown",
   "metadata": {},
   "source": [
    "Hasil dari konversi pada contoh di atas memberi kita nilai NaT, yang dapat ditangani sebagai nilai NULL, dan kita dapat menghapus baris dengan menggunakan metode dropna()."
   ]
  },
  {
   "cell_type": "markdown",
   "metadata": {},
   "source": [
    "FIXING WRONG DATA\n",
    "\n",
    "\"Data salah\" tidak harus \"sel kosong\" atau \"format salah\", bisa saja salah, seperti jika seseorang mendaftarkan \"199\" dan bukan \"1,99\".\n",
    "\n",
    "Jika Anda melihat kumpulan data kami, Anda dapat melihat bahwa di baris 7, durasinya adalah 450, tetapi untuk semua baris lainnya durasinya antara 30 dan 60.\n",
    "\n",
    "Tidak harus salah, tetapi dengan mempertimbangkan bahwa ini adalah kumpulan data sesi latihan seseorang, kami menyimpulkan dengan fakta bahwa orang ini tidak berolahraga dalam 450 menit."
   ]
  },
  {
   "cell_type": "markdown",
   "metadata": {},
   "source": [
    "REPLACING VALUE"
   ]
  },
  {
   "cell_type": "code",
   "execution_count": null,
   "metadata": {},
   "outputs": [],
   "source": [
    "import pandas as pd\n",
    "\n",
    "df = pd.read_csv('dirtydata.csv')\n",
    "df.loc[7, 'Duration'] = 45\n",
    "print(df.to_string())"
   ]
  },
  {
   "cell_type": "markdown",
   "metadata": {},
   "source": [
    "Untuk kumpulan data kecil, Anda mungkin dapat mengganti data yang salah satu per satu, tetapi tidak untuk kumpulan data besar.\n",
    "\n",
    "Untuk mengganti data yang salah untuk kumpulan data yang lebih besar, Anda dapat membuat beberapa aturan, mis. menetapkan beberapa batasan untuk nilai-nilai hukum, dan mengganti nilai-nilai yang berada di luar batas-batas tersebut."
   ]
  },
  {
   "cell_type": "code",
   "execution_count": null,
   "metadata": {},
   "outputs": [],
   "source": [
    "import pandas as pd\n",
    "df = pd.read_csv('dirtydata.csv')\n",
    "for x in df.index:\n",
    "    if df.loc[x, \"Duration\"] > 120:\n",
    "        df.loc[x, \"Duration\"] = 120\n",
    "print(df.to_string())"
   ]
  },
  {
   "cell_type": "code",
   "execution_count": null,
   "metadata": {},
   "outputs": [],
   "source": [
    "# REMOVING VALUE\n",
    "import pandas as pd\n",
    "\n",
    "df = pd.read_csv('dirtydata.csv')\n",
    "\n",
    "for x in df.index:\n",
    "  if df.loc[x, \"Duration\"] > 120:\n",
    "    df.drop(x, inplace = True)\n",
    "\n",
    "#remember to include the 'inplace = True' argument to make the changes in the original DataFrame object instead of returning a copy\n",
    "\n",
    "print(df.to_string())"
   ]
  },
  {
   "cell_type": "markdown",
   "metadata": {},
   "source": [
    "DISCOVERING DUPLICATES\n",
    "pan\n",
    "Untuk menemukan duplikat, kita dapat menggunakan metode duplikat ().\n",
    "Metode duplikat () mengembalikan nilai Boolean untuk setiap baris:"
   ]
  },
  {
   "cell_type": "code",
   "execution_count": null,
   "metadata": {},
   "outputs": [],
   "source": [
    "import pandas as pd\n",
    "\n",
    "df = pd.read_csv('dirtydata.csv')\n",
    "print(df.duplicated())"
   ]
  },
  {
   "cell_type": "markdown",
   "metadata": {},
   "source": [
    "REMOVING DUPLICATES\n",
    "\n",
    "To remove duplicates, use the drop_duplicates() method.\n",
    "\n",
    "Ingat: (inplace = True) akan memastikan bahwa metode TIDAK mengembalikan DataFrame baru, tetapi akan menghapus semua duplikat dari DataFrame asli."
   ]
  },
  {
   "cell_type": "code",
   "execution_count": null,
   "metadata": {},
   "outputs": [],
   "source": [
    "import pandas as pd\n",
    "\n",
    "df = pd.read_csv('dirtydata.csv')\n",
    "\n",
    "df.drop_duplicates(inplace = True)\n",
    "# df.drop_duplicates()\n",
    "print(df.to_string())\n",
    "\n",
    "#Notice that row 12 has been removed from the result"
   ]
  }
 ],
 "metadata": {
  "interpreter": {
   "hash": "f4a36c9d3f500bf70ac9a852efc42db4ba0f404fe78701360e7cea434e8660ad"
  },
  "kernelspec": {
   "display_name": "Python 3.10.1 64-bit",
   "language": "python",
   "name": "python3"
  },
  "language_info": {
   "codemirror_mode": {
    "name": "ipython",
    "version": 3
   },
   "file_extension": ".py",
   "mimetype": "text/x-python",
   "name": "python",
   "nbconvert_exporter": "python",
   "pygments_lexer": "ipython3",
   "version": "3.10.1"
  },
  "orig_nbformat": 4
 },
 "nbformat": 4,
 "nbformat_minor": 2
}
