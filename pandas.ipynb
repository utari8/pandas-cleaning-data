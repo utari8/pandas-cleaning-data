{
 "cells": [
  {
   "cell_type": "code",
   "execution_count": null,
   "metadata": {},
   "outputs": [],
   "source": [
    "import pandas as pd\n",
    "\n",
    "mydataset = {\n",
    "    'cars' : [\"BMW\", \"Volvo\", \"Ford\"],\n",
    "    'passings' : [3, 7, 2]\n",
    "}\n",
    "\n",
    "myvar = pd.DataFrame(mydataset)\n",
    "print(myvar)"
   ]
  },
  {
   "cell_type": "code",
   "execution_count": null,
   "metadata": {},
   "outputs": [],
   "source": [
    "import pandas as pd \n",
    "import numpy as np\n",
    "\n",
    "print(pd.__version__)\n",
    "print(np.__version__)"
   ]
  },
  {
   "cell_type": "markdown",
   "metadata": {},
   "source": [
    "Series pada Pandas seperti kolom dalam tabel\n",
    "Jika tidak ada lagi yang ditentukan, nilai diberi label dengan nomor indeksnya. Nilai pertama memiliki indeks 0, nilai kedua memiliki indeks 1 dll.\n",
    "\n",
    "Label ini dapat digunakan untuk mengakses nilai tertentu."
   ]
  },
  {
   "cell_type": "code",
   "execution_count": null,
   "metadata": {},
   "outputs": [],
   "source": [
    "import pandas as pd\n",
    "\n",
    "a=[1, 7, 3]\n",
    "myvar = pd.Series(a)\n",
    "print(myvar)\n",
    "print(myvar[0])"
   ]
  },
  {
   "cell_type": "code",
   "execution_count": null,
   "metadata": {},
   "outputs": [],
   "source": [
    "# Label\n",
    "# Dengan index argument, kamu dapat menamai labelmu sendiri\n",
    "import pandas as pd\n",
    "a=[1,7,2]\n",
    "myvar = pd.Series(a, index=[\"x\", \"y\",\"z\"])\n",
    "print(myvar)\n",
    "print(myvar[\"y\"])"
   ]
  },
  {
   "cell_type": "markdown",
   "metadata": {},
   "source": [
    "Key/Value Objects as Series\n",
    "Anda juga dapat menggunakan objek kunci/nilai, seperti dictionary, saat membuat Series.\n",
    "Untuk memilih hanya beberapa item dalam kamus, gunakan argumen indeks dan tentukan hanya item yang ingin Anda sertakan dalam Seri."
   ]
  },
  {
   "cell_type": "code",
   "execution_count": null,
   "metadata": {},
   "outputs": [],
   "source": [
    "import pandas as pd \n",
    "cal = {\"day1\":420, \"day2\":380, \"day3\":390}\n",
    "myvar = pd.Series(cal)\n",
    "print(myvar)"
   ]
  },
  {
   "cell_type": "code",
   "execution_count": null,
   "metadata": {},
   "outputs": [],
   "source": [
    "import pandas as pd\n",
    "cal = {\"day1\":420, \"day2\":380, \"day3\":390}\n",
    "myvar = pd.Series(cal, index = [\"day1\", \"day2\"])\n",
    "print(myvar)"
   ]
  },
  {
   "cell_type": "markdown",
   "metadata": {},
   "source": [
    "DataFrames\n",
    "Kumpulan data di Pandas biasanya berupa tabel multidimensi, yang disebut DataFrames.\n",
    "DataFrame adalah struktur data 2 dimensi, seperti 2 dimensional array, atau tabel dengan baris dan kolom.\n",
    "\n",
    "Series seperti kolom, DataFrame adalah seluruh tabel."
   ]
  },
  {
   "cell_type": "code",
   "execution_count": null,
   "metadata": {},
   "outputs": [],
   "source": [
    "import pandas as pd\n",
    "\n",
    "data = {\n",
    "    \"cal\": [420, 380, 390],\n",
    "    \"dur\": [50, 40, 45]\n",
    "}\n",
    "myvar = pd.DataFrame(data)\n",
    "print(myvar)"
   ]
  },
  {
   "cell_type": "markdown",
   "metadata": {},
   "source": [
    "Locate Row\n",
    "Seperti yang Anda lihat dari hasil di atas, DataFrame seperti tabel dengan baris dan kolom.\n",
    "\n",
    "Pandas menggunakan atribut loc untuk mengembalikan satu atau lebih baris yang ditentukan"
   ]
  },
  {
   "cell_type": "code",
   "execution_count": null,
   "metadata": {},
   "outputs": [],
   "source": [
    "df = pd.DataFrame(data)\n",
    "print(df.loc[0])"
   ]
  },
  {
   "cell_type": "code",
   "execution_count": null,
   "metadata": {},
   "outputs": [],
   "source": [
    "#use a list of indexes:\n",
    "print(df.loc[[0, 1]])"
   ]
  },
  {
   "cell_type": "markdown",
   "metadata": {},
   "source": [
    "Named Indexes\n",
    "Dengan argumen indeks, Anda dapat memberi nama indeks Anda sendiri."
   ]
  },
  {
   "cell_type": "code",
   "execution_count": null,
   "metadata": {},
   "outputs": [],
   "source": [
    "import pandas as pd\n",
    "\n",
    "data={\n",
    "    \"calories\": [420, 380, 390],\n",
    "    \"duration\": [50, 40, 45]\n",
    "}\n",
    "\n",
    "df = pd.DataFrame(data, index = [\"day1\", \"day2\", \"day3\"])\n",
    "print(df)"
   ]
  },
  {
   "cell_type": "markdown",
   "metadata": {},
   "source": [
    "Locate Named Indexes\n",
    "Gunakan nama index dalam atribut loc untuk mengembalikan baris yang ditentukan."
   ]
  },
  {
   "cell_type": "code",
   "execution_count": null,
   "metadata": {},
   "outputs": [],
   "source": [
    "print(df.loc[\"day2\"])"
   ]
  },
  {
   "cell_type": "code",
   "execution_count": null,
   "metadata": {},
   "outputs": [],
   "source": [
    "import opendatasets as od\n",
    "\n",
    "od.download(\"https://www.kaggle.com/yamqwe/omicron-covid19-variant-daily-cases\")"
   ]
  },
  {
   "cell_type": "code",
   "execution_count": null,
   "metadata": {},
   "outputs": [],
   "source": [
    "a = pd.read_csv(\"covidvariants.csv\")\n",
    "print(a)"
   ]
  },
  {
   "cell_type": "markdown",
   "metadata": {},
   "source": [
    "PRINT DATAFRAME"
   ]
  },
  {
   "cell_type": "code",
   "execution_count": null,
   "metadata": {},
   "outputs": [],
   "source": [
    "# USING to_string()\n",
    "import pandas as pd\n",
    "\n",
    "df = pd.read_csv('covidvariants.csv')\n",
    "# use to_string() untuk mencetak semua data frame\n",
    "print(df.to_string()) "
   ]
  },
  {
   "cell_type": "code",
   "execution_count": null,
   "metadata": {},
   "outputs": [],
   "source": [
    "# USING options.display.max_rows\n",
    "import pandas as pd \n",
    "\n",
    "# Di sistem akan muncul angka 60, yang artinya DataFrame berisi lebih dari 60 rows,\n",
    "# print(pd.options.display.max_rows)\n",
    "\n",
    "pd.options.display.max_rows = 99999\n",
    "# print(df) akan mengembalikan hanya header dan 5 kolom pertama dan terakhir\n",
    "df = pd.read_csv('covidvariants.csv')\n",
    "print(df)"
   ]
  },
  {
   "cell_type": "markdown",
   "metadata": {},
   "source": [
    "CONVERT CSV, EXCEL, & JSON"
   ]
  },
  {
   "cell_type": "code",
   "execution_count": null,
   "metadata": {},
   "outputs": [],
   "source": [
    "# CSV TO JSON\n",
    "import pandas as pd\n",
    "\n",
    "df = pd.read_csv(r'C:\\Users\\xoxo\\Desktop\\covidvariants.csv')\n",
    "df.to_json(r'C:\\Users\\xoxo\\Desktop\\Newcovidvariants.json')"
   ]
  },
  {
   "cell_type": "code",
   "execution_count": null,
   "metadata": {},
   "outputs": [],
   "source": [
    "# CSV TO EXCEL\n",
    "import pandas as pd\n",
    "\n",
    "read_file = pd.read_csv (r'C:\\Users\\xoxo\\Desktop\\covidvariants.csv')\n",
    "read_file.to_excel (r'C:\\Users\\xoxo\\Desktop\\New_Products.xlsx', index = None, header=True)"
   ]
  },
  {
   "cell_type": "code",
   "execution_count": null,
   "metadata": {},
   "outputs": [],
   "source": [
    "# EXCEL TO CSV\n",
    "import pandas as pd\n",
    "\n",
    "read_file = pd.read_excel (r'C:\\Users\\xoxo\\Desktop\\Product_List.xlsx')\n",
    "read_file.to_csv (r'C:\\Users\\xoxo\\Desktop\\New_Products.csv', index = None, header=True)"
   ]
  },
  {
   "cell_type": "markdown",
   "metadata": {},
   "source": [
    "VIEWING THE DATA"
   ]
  },
  {
   "cell_type": "code",
   "execution_count": null,
   "metadata": {},
   "outputs": [],
   "source": [
    "# USING head()\n",
    "import pandas as pd\n",
    "\n",
    "# metode ini mengembalikan header dan sejumlah baris tertentu, mulai dari atas\n",
    "df = pd.read_csv('covidvariants.csv')\n",
    "print(df.head(10))\n",
    "\n",
    "# hanya mengambil 5 baris dataframe\n",
    "#print(df.head()) "
   ]
  },
  {
   "cell_type": "code",
   "execution_count": null,
   "metadata": {},
   "outputs": [],
   "source": [
    "# USING tail()\n",
    "import pandas as pd\n",
    "\n",
    "# metode ini mengembalikan header dan sejumlah baris tertentu, mulai dari bawah\n",
    "dd = pd.read_csv('covidvariants.csv')\n",
    "print(dd.tail(10))\n",
    "\n",
    "# hanya mengambil 5 baris dataframe\n",
    "#print(df.tail()) "
   ]
  },
  {
   "cell_type": "markdown",
   "metadata": {},
   "source": [
    "INFO TENTANG DATA"
   ]
  },
  {
   "cell_type": "code",
   "execution_count": null,
   "metadata": {},
   "outputs": [],
   "source": [
    "# USING info()\n",
    "import pandas as pd\n",
    "\n",
    "# metode ini memberikan info tentang dataset\n",
    "dd = pd.read_csv('covidvariants.csv')\n",
    "print(dd.info())"
   ]
  }
 ],
 "metadata": {
  "interpreter": {
   "hash": "f4a36c9d3f500bf70ac9a852efc42db4ba0f404fe78701360e7cea434e8660ad"
  },
  "kernelspec": {
   "display_name": "Python 3.10.1 64-bit",
   "language": "python",
   "name": "python3"
  },
  "language_info": {
   "codemirror_mode": {
    "name": "ipython",
    "version": 3
   },
   "file_extension": ".py",
   "mimetype": "text/x-python",
   "name": "python",
   "nbconvert_exporter": "python",
   "pygments_lexer": "ipython3",
   "version": "3.10.1"
  },
  "orig_nbformat": 4
 },
 "nbformat": 4,
 "nbformat_minor": 2
}
